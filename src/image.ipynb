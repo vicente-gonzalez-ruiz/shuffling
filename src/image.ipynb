{
 "cells": [
  {
   "cell_type": "markdown",
   "id": "1ed09b1c-16fc-420e-9b5c-32ea7be78c0c",
   "metadata": {},
   "source": [
    "# Testing image shuffling"
   ]
  },
  {
   "cell_type": "code",
   "execution_count": null,
   "id": "684a4231-21e9-4d43-a2e6-48e32035c1ed",
   "metadata": {},
   "outputs": [],
   "source": [
    "from collections import namedtuple\n",
    "try:\n",
    "    import numpy as np\n",
    "except:\n",
    "    !pip install numpy\n",
    "    import numpy as np\n",
    "try:\n",
    "    import matplotlib\n",
    "    import matplotlib.pyplot as plt\n",
    "    import matplotlib.ticker as mticker\n",
    "except:\n",
    "    !pip install matplotlib\n",
    "    import matplotlib\n",
    "    import matplotlib.pyplot as plt\n",
    "    import matplotlib.ticker as mticker\n",
    "try:\n",
    "    from skimage import io as skimage_io\n",
    "except:\n",
    "    !pip install scikit-image\n",
    "    from skimage import io as skimage_io"
   ]
  },
  {
   "cell_type": "code",
   "execution_count": null,
   "id": "dae4811c-c274-4837-94f9-f85de83ef25d",
   "metadata": {},
   "outputs": [],
   "source": [
    "import shuffling.image as image_shuffling"
   ]
  },
  {
   "cell_type": "code",
   "execution_count": null,
   "id": "9520cdc2-d36c-4c62-b2e9-43f96a9850df",
   "metadata": {},
   "outputs": [],
   "source": [
    "Args = namedtuple(\"args\", [\"X\"])\n",
    "args = Args(\"http://www.hpca.ual.es/~vruiz/images/barb.png\")\n",
    "X = skimage_io.imread(args.X)"
   ]
  },
  {
   "cell_type": "code",
   "execution_count": null,
   "id": "d6f027d8-e70f-437e-8c00-6262309786e5",
   "metadata": {},
   "outputs": [],
   "source": [
    "plt.imshow(X, cmap=\"gray\")"
   ]
  },
  {
   "cell_type": "code",
   "execution_count": null,
   "id": "edf1f281-024c-44be-a018-cd05c1b1650d",
   "metadata": {},
   "outputs": [],
   "source": [
    "Y = image_shuffling.randomize_and_project(X, std_dev=3, window_side=7, N_poly=1.2)"
   ]
  },
  {
   "cell_type": "code",
   "execution_count": null,
   "id": "5835dae8-47fc-4161-90af-af14181e94b8",
   "metadata": {},
   "outputs": [],
   "source": [
    "plt.imshow(Y, cmap=\"gray\")"
   ]
  },
  {
   "cell_type": "code",
   "execution_count": null,
   "id": "5b83b94c-bd96-42b0-ad8c-4b45f0b75f47",
   "metadata": {},
   "outputs": [],
   "source": []
  }
 ],
 "metadata": {
  "kernelspec": {
   "display_name": "Python 3 (ipykernel)",
   "language": "python",
   "name": "python3"
  },
  "language_info": {
   "codemirror_mode": {
    "name": "ipython",
    "version": 3
   },
   "file_extension": ".py",
   "mimetype": "text/x-python",
   "name": "python",
   "nbconvert_exporter": "python",
   "pygments_lexer": "ipython3",
   "version": "3.12.2"
  }
 },
 "nbformat": 4,
 "nbformat_minor": 5
}
