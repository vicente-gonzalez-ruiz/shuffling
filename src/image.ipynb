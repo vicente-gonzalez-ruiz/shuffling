{
 "cells": [
  {
   "cell_type": "markdown",
   "id": "1ed09b1c-16fc-420e-9b5c-32ea7be78c0c",
   "metadata": {},
   "source": [
    "# Testing image shuffling"
   ]
  },
  {
   "cell_type": "code",
   "execution_count": null,
   "id": "684a4231-21e9-4d43-a2e6-48e32035c1ed",
   "metadata": {},
   "outputs": [],
   "source": [
    "from collections import namedtuple\n",
    "try:\n",
    "    import numpy as np\n",
    "except:\n",
    "    !pip install numpy\n",
    "    import numpy as np\n",
    "try:\n",
    "    import matplotlib\n",
    "    import matplotlib.pyplot as plt\n",
    "    import matplotlib.ticker as mticker\n",
    "except:\n",
    "    !pip install matplotlib\n",
    "    import matplotlib\n",
    "    import matplotlib.pyplot as plt\n",
    "    import matplotlib.ticker as mticker\n",
    "try:\n",
    "    from skimage import io as skimage_io\n",
    "except:\n",
    "    !pip install scikit-image\n",
    "    from skimage import io as skimage_io"
   ]
  },
  {
   "cell_type": "code",
   "execution_count": null,
   "id": "dae4811c-c274-4837-94f9-f85de83ef25d",
   "metadata": {},
   "outputs": [],
   "source": [
    "import shuffling.image as image_shuffling"
   ]
  },
  {
   "cell_type": "code",
   "execution_count": null,
   "id": "9520cdc2-d36c-4c62-b2e9-43f96a9850df",
   "metadata": {},
   "outputs": [],
   "source": [
    "Args = namedtuple(\"args\", [\"X\"])\n",
    "args = Args(\"http://www.hpca.ual.es/~vruiz/images/barb.png\")\n",
    "X = skimage_io.imread(args.X)"
   ]
  },
  {
   "cell_type": "code",
   "execution_count": null,
   "id": "d6f027d8-e70f-437e-8c00-6262309786e5",
   "metadata": {},
   "outputs": [],
   "source": [
    "plt.imshow(X, cmap=\"gray\")"
   ]
  },
  {
   "cell_type": "code",
   "execution_count": null,
   "id": "edf1f281-024c-44be-a018-cd05c1b1650d",
   "metadata": {},
   "outputs": [],
   "source": [
    "Y = image_shuffling.randomize_and_project(X, std_dev=3, window_side=7, sigma_poly=1.2)"
   ]
  },
  {
   "cell_type": "code",
   "execution_count": null,
   "id": "5835dae8-47fc-4161-90af-af14181e94b8",
   "metadata": {},
   "outputs": [],
   "source": [
    "plt.imshow(Y, cmap=\"gray\")"
   ]
  },
  {
   "cell_type": "code",
   "execution_count": null,
   "id": "f7da1b0f-d2c5-4ce5-99d3-a02047876cdd",
   "metadata": {},
   "outputs": [],
   "source": [
    "Y = image_shuffling.randomize_and_project2(X, std_dev=3, window_side=7, sigma_poly=1.2)"
   ]
  },
  {
   "cell_type": "code",
   "execution_count": null,
   "id": "45230d1f-597f-4e80-9636-f7b4808a7c6c",
   "metadata": {},
   "outputs": [],
   "source": [
    "plt.imshow(Y, cmap=\"gray\")"
   ]
  },
  {
   "cell_type": "code",
   "execution_count": null,
   "id": "5b83b94c-bd96-42b0-ad8c-4b45f0b75f47",
   "metadata": {},
   "outputs": [],
   "source": [
    "Y = image_shuffling.randomize_and_project(X, std_dev=3, window_side=7, sigma_poly=0.8)"
   ]
  },
  {
   "cell_type": "code",
   "execution_count": null,
   "id": "5e2fc193-a317-4ff6-8121-54cb8cbdfa3d",
   "metadata": {},
   "outputs": [],
   "source": [
    "plt.imshow(Y, cmap=\"gray\")"
   ]
  },
  {
   "cell_type": "code",
   "execution_count": null,
   "id": "6170cadc-3dde-4df1-bbf0-00d62de489d7",
   "metadata": {},
   "outputs": [],
   "source": [
    "Y = image_shuffling.randomize_and_project(X, std_dev=3, window_side=5, sigma_poly=0.8)"
   ]
  },
  {
   "cell_type": "code",
   "execution_count": null,
   "id": "7199a591-0528-4560-882d-84b9da6c5ebc",
   "metadata": {},
   "outputs": [],
   "source": [
    "plt.imshow(Y, cmap=\"gray\")"
   ]
  },
  {
   "cell_type": "code",
   "execution_count": null,
   "id": "1ed05ef9-4455-4b25-97f2-d53b22012a38",
   "metadata": {},
   "outputs": [],
   "source": [
    "Y = image_shuffling.randomize_and_project(X, std_dev=3, window_side=5, sigma_poly=0.5)"
   ]
  },
  {
   "cell_type": "code",
   "execution_count": null,
   "id": "d8b2952d-79e3-4f69-9c42-3f7fbe627c17",
   "metadata": {},
   "outputs": [],
   "source": [
    "plt.imshow(Y, cmap=\"gray\")"
   ]
  },
  {
   "cell_type": "code",
   "execution_count": null,
   "id": "b8931335-83de-4150-b026-3cc6525ccfe6",
   "metadata": {},
   "outputs": [],
   "source": [
    "Y = image_shuffling.randomize_and_project(X, std_dev=3, window_side=9, sigma_poly=0.5)"
   ]
  },
  {
   "cell_type": "code",
   "execution_count": null,
   "id": "3cee30f9-6fe6-43df-bf22-d31694b82175",
   "metadata": {},
   "outputs": [],
   "source": [
    "plt.imshow(Y, cmap=\"gray\")"
   ]
  },
  {
   "cell_type": "code",
   "execution_count": null,
   "id": "bacfb27f-96ca-4601-b863-23cc6611d731",
   "metadata": {},
   "outputs": [],
   "source": [
    "Y = image_shuffling.randomize_and_project(X, std_dev=5, window_side=9, sigma_poly=0.5)"
   ]
  },
  {
   "cell_type": "code",
   "execution_count": null,
   "id": "aa51154f-9588-4ffa-a9b7-9b350962c805",
   "metadata": {},
   "outputs": [],
   "source": [
    "plt.imshow(Y, cmap=\"gray\")"
   ]
  },
  {
   "cell_type": "code",
   "execution_count": null,
   "id": "a753d704-b4cb-4b70-9a15-08bb0398a085",
   "metadata": {},
   "outputs": [],
   "source": [
    "Y1 = image_shuffling.chessboard_interpolate_blacks(X)\n",
    "plt.imshow(Y1, cmap=\"gray\")"
   ]
  },
  {
   "cell_type": "code",
   "execution_count": null,
   "id": "46d66456-4a92-4de1-bc4e-cddea2839fcf",
   "metadata": {},
   "outputs": [],
   "source": [
    "plt.imshow(X[0:20,0:20], cmap=\"gray\")"
   ]
  },
  {
   "cell_type": "code",
   "execution_count": null,
   "id": "d689d0d6-c1f3-4379-9808-bcad250abb84",
   "metadata": {},
   "outputs": [],
   "source": [
    "Y2 = image_shuffling.chessboard_interpolate_whites(X)\n",
    "plt.imshow(Y2[0:20,0:20], cmap=\"gray\")"
   ]
  },
  {
   "cell_type": "code",
   "execution_count": null,
   "id": "4d952d9b-48d6-4fbc-b0b5-ee6b648f482b",
   "metadata": {},
   "outputs": [],
   "source": [
    "Y2 = image_shuffling.chessboard_interpolate_whites(X)\n",
    "plt.imshow(Y2[0:20,0:20], cmap=\"gray\")"
   ]
  },
  {
   "cell_type": "code",
   "execution_count": null,
   "id": "1523fdf5-8fbf-4c3f-b4b1-b3d2f0bd78cc",
   "metadata": {},
   "outputs": [],
   "source": [
    "plt.imshow(Y1-Y2)"
   ]
  },
  {
   "cell_type": "code",
   "execution_count": null,
   "id": "1e5b0529-5def-4373-b9ec-f4e89c0a1069",
   "metadata": {},
   "outputs": [],
   "source": []
  }
 ],
 "metadata": {
  "kernelspec": {
   "display_name": "Python 3 (ipykernel)",
   "language": "python",
   "name": "python3"
  },
  "language_info": {
   "codemirror_mode": {
    "name": "ipython",
    "version": 3
   },
   "file_extension": ".py",
   "mimetype": "text/x-python",
   "name": "python",
   "nbconvert_exporter": "python",
   "pygments_lexer": "ipython3",
   "version": "3.12.2"
  }
 },
 "nbformat": 4,
 "nbformat_minor": 5
}
